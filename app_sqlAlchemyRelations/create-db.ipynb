{
 "cells": [
  {
   "cell_type": "code",
   "execution_count": 1,
   "metadata": {},
   "outputs": [],
   "source": [
    "from app_sqlAlchemyRelations.app import db, AuthorModel, QuoteModel"
   ]
  },
  {
   "cell_type": "code",
   "execution_count": 2,
   "metadata": {},
   "outputs": [],
   "source": [
    "#создаем таблицы теперь через alembic"
   ]
  },
  {
   "cell_type": "code",
   "execution_count": 2,
   "metadata": {},
   "outputs": [],
   "source": [
    "\n",
    "for a in range(1, 10):\n",
    "    author = AuthorModel(f\"Name {a}\", f\"SurName {a}\")\n",
    "    db.session.add(author)\n",
    "    db.session.commit()\n",
    "\n",
    "    q1 = QuoteModel(author, f\"Nick{a}'s quote\", a % 5 + 1)\n",
    "    # Сохраняем Цитату в базе\n",
    "    db.session.add(q1)\n",
    "    db.session.commit()\n"
   ]
  },
  {
   "cell_type": "code",
   "execution_count": 3,
   "metadata": {},
   "outputs": [],
   "source": [
    "quotes = QuoteModel.query.all()"
   ]
  },
  {
   "cell_type": "code",
   "execution_count": 4,
   "metadata": {},
   "outputs": [
    {
     "data": {
      "text/plain": [
       "[<Quote author_id=1 id=1>,\n",
       " <Quote author_id=1 id=2>,\n",
       " <Quote author_id=2 id=3>,\n",
       " <Quote author_id=3 id=4>,\n",
       " <Quote author_id=4 id=5>,\n",
       " <Quote author_id=5 id=6>,\n",
       " <Quote author_id=6 id=7>,\n",
       " <Quote author_id=7 id=8>,\n",
       " <Quote author_id=8 id=9>,\n",
       " <Quote author_id=9 id=10>]"
      ]
     },
     "execution_count": 4,
     "metadata": {},
     "output_type": "execute_result"
    }
   ],
   "source": [
    "quotes"
   ]
  },
  {
   "cell_type": "code",
   "execution_count": 6,
   "metadata": {},
   "outputs": [
    {
     "data": {
      "text/plain": [
       "{'id': 9, 'author_id': 8, 'text': \"Nick8's quote\", 'rating': 4}"
      ]
     },
     "execution_count": 6,
     "metadata": {},
     "output_type": "execute_result"
    }
   ],
   "source": [
    "quotes[8].as_dict()"
   ]
  }
 ],
 "metadata": {
  "kernelspec": {
   "display_name": "Python 3 (ipykernel)",
   "language": "python",
   "name": "python3"
  },
  "language_info": {
   "codemirror_mode": {
    "name": "ipython",
    "version": 3
   },
   "file_extension": ".py",
   "mimetype": "text/x-python",
   "name": "python",
   "nbconvert_exporter": "python",
   "pygments_lexer": "ipython3",
   "version": "3.10.5"
  },
  "orig_nbformat": 4,
  "vscode": {
   "interpreter": {
    "hash": "8e156e25763ecba5a2ebbab18115088d8d7ba0154c18753db63971dfb8fa3447"
   }
  }
 },
 "nbformat": 4,
 "nbformat_minor": 2
}
