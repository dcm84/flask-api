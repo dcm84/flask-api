{
 "cells": [
  {
   "cell_type": "code",
   "execution_count": 1,
   "metadata": {},
   "outputs": [],
   "source": [
    "from app_sqlAlchemy.app import db, QuoteModel"
   ]
  },
  {
   "cell_type": "code",
   "execution_count": 2,
   "metadata": {},
   "outputs": [],
   "source": [
    "#создаем таблицы\n",
    "db.create_all()"
   ]
  },
  {
   "cell_type": "code",
   "execution_count": 3,
   "metadata": {},
   "outputs": [],
   "source": [
    "#создаем цитаты\n",
    "for i in range(0, 5):\n",
    "    q1 = QuoteModel(f'Народная мудрость {i}', f'Нет пламени без огня {i}', i % 5 + 1)\n",
    "    db.session.add(q1)\n",
    "db.session.commit()"
   ]
  },
  {
   "cell_type": "code",
   "execution_count": 4,
   "metadata": {},
   "outputs": [],
   "source": [
    "quotes = QuoteModel.query.all()"
   ]
  },
  {
   "cell_type": "code",
   "execution_count": 5,
   "metadata": {},
   "outputs": [
    {
     "data": {
      "text/plain": [
       "[<Quote 'Народная мудрость 0' id=1>,\n",
       " <Quote 'Народная мудрость 1' id=2>,\n",
       " <Quote 'Народная мудрость 2' id=3>,\n",
       " <Quote 'Народная мудрость 3' id=4>,\n",
       " <Quote 'Народная мудрость 4' id=5>]"
      ]
     },
     "execution_count": 5,
     "metadata": {},
     "output_type": "execute_result"
    }
   ],
   "source": [
    "quotes"
   ]
  },
  {
   "cell_type": "code",
   "execution_count": 6,
   "metadata": {},
   "outputs": [
    {
     "data": {
      "text/plain": [
       "{'id': 1,\n",
       " 'author': 'Народная мудрость 0',\n",
       " 'text': 'Нет пламени без огня 0',\n",
       " 'rating': 1}"
      ]
     },
     "execution_count": 6,
     "metadata": {},
     "output_type": "execute_result"
    }
   ],
   "source": [
    "quotes[0].as_dict()"
   ]
  }
 ],
 "metadata": {
  "kernelspec": {
   "display_name": "Python 3 (ipykernel)",
   "language": "python",
   "name": "python3"
  },
  "language_info": {
   "codemirror_mode": {
    "name": "ipython",
    "version": 3
   },
   "file_extension": ".py",
   "mimetype": "text/x-python",
   "name": "python",
   "nbconvert_exporter": "python",
   "pygments_lexer": "ipython3",
   "version": "3.10.5"
  },
  "orig_nbformat": 4,
  "vscode": {
   "interpreter": {
    "hash": "8e156e25763ecba5a2ebbab18115088d8d7ba0154c18753db63971dfb8fa3447"
   }
  }
 },
 "nbformat": 4,
 "nbformat_minor": 2
}
