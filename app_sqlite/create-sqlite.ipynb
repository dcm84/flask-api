{
 "cells": [
  {
   "cell_type": "code",
   "execution_count": 2,
   "metadata": {},
   "outputs": [],
   "source": [
    "import sqlite3"
   ]
  },
  {
   "cell_type": "code",
   "execution_count": 3,
   "metadata": {},
   "outputs": [],
   "source": [
    "create_table = \"\"\"\n",
    "CREATE TABLE IF NOT EXISTS quotes (\n",
    "id INTEGER PRIMARY KEY AUTOINCREMENT,\n",
    "author TEXT NOT NULL,\n",
    "text TEXT NOT NULL\n",
    ");\n",
    "\"\"\""
   ]
  },
  {
   "cell_type": "code",
   "execution_count": 4,
   "metadata": {},
   "outputs": [],
   "source": [
    "create_quotes = \"\"\"\n",
    "INSERT INTO\n",
    "quotes (author,text)\n",
    "VALUES\n",
    "('Rick Cook', 'Программирование сегодня — это гонка разработчиков программ...'),\n",
    "('Waldi Ravens', 'Программирование на С похоже на быстрые танцы на только...');\n",
    "\"\"\""
   ]
  },
  {
   "cell_type": "code",
   "execution_count": 5,
   "metadata": {},
   "outputs": [
    {
     "data": {
      "text/plain": [
       "\"\\nINSERT INTO\\nquotes (author,text)\\nVALUES\\n('Rick Cook', 'Программирование сегодня — это гонка разработчиков программ...'),\\n('Waldi Ravens', 'Программирование на С похоже на быстрые танцы на только...');\\n\""
      ]
     },
     "execution_count": 5,
     "metadata": {},
     "output_type": "execute_result"
    }
   ],
   "source": [
    "create_quotes"
   ]
  },
  {
   "cell_type": "code",
   "execution_count": 6,
   "metadata": {},
   "outputs": [],
   "source": [
    "db_file = \"quotes.sqlite\"\n",
    "\n",
    "# Подключение в БД\n",
    "connection = sqlite3.connect(db_file)\n",
    "\n",
    "# Создаем cursor, он позволяет делать SQL-запросы\n",
    "cursor = connection.cursor()\n",
    "\n",
    "# Выполняем запросы:\n",
    "cursor.execute(create_table)\n",
    "cursor.execute(create_quotes)\n",
    "connection.commit()\n",
    "\n",
    "# Закрыть соединение:\n",
    "cursor.close()"
   ]
  },
  {
   "cell_type": "code",
   "execution_count": 8,
   "metadata": {},
   "outputs": [],
   "source": [
    "# Создаем cursor, он позволяет делать SQL-запросы\n",
    "cursor = connection.cursor()"
   ]
  },
  {
   "cell_type": "code",
   "execution_count": 9,
   "metadata": {},
   "outputs": [],
   "source": [
    "#смотрим содержимое запроса\n",
    "select_quotes = \"SELECT * from quotes\"\n",
    "cursor.execute(select_quotes)\n",
    "quotes = cursor.fetchall()"
   ]
  },
  {
   "cell_type": "code",
   "execution_count": 10,
   "metadata": {},
   "outputs": [
    {
     "data": {
      "text/plain": [
       "[(1,\n",
       "  'Rick Cook',\n",
       "  'Программирование сегодня — это гонка разработчиков программ...'),\n",
       " (2,\n",
       "  'Waldi Ravens',\n",
       "  'Программирование на С похоже на быстрые танцы на только...')]"
      ]
     },
     "execution_count": 10,
     "metadata": {},
     "output_type": "execute_result"
    }
   ],
   "source": [
    "quotes"
   ]
  },
  {
   "cell_type": "code",
   "execution_count": null,
   "metadata": {},
   "outputs": [],
   "source": []
  }
 ],
 "metadata": {
  "kernelspec": {
   "display_name": "Python 3 (ipykernel)",
   "language": "python",
   "name": "python3"
  },
  "language_info": {
   "codemirror_mode": {
    "name": "ipython",
    "version": 3
   },
   "file_extension": ".py",
   "mimetype": "text/x-python",
   "name": "python",
   "nbconvert_exporter": "python",
   "pygments_lexer": "ipython3",
   "version": "3.10.5"
  },
  "orig_nbformat": 4,
  "vscode": {
   "interpreter": {
    "hash": "8e156e25763ecba5a2ebbab18115088d8d7ba0154c18753db63971dfb8fa3447"
   }
  }
 },
 "nbformat": 4,
 "nbformat_minor": 2
}
